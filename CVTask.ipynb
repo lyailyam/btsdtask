{
 "cells": [
  {
   "cell_type": "markdown",
   "metadata": {},
   "source": [
    "### Computer Vision Internship Program\n"
   ]
  },
  {
   "cell_type": "markdown",
   "metadata": {},
   "source": [
    "\n",
    "#### Practical Task description:\n",
    "Your task is to write to a pipeline to classify images from MNIST dataset\n",
    "(http://yann.lecun.com/exdb/mnist/)  using Neural Networks!\n",
    "\n"
   ]
  },
  {
   "cell_type": "markdown",
   "metadata": {},
   "source": [
    "![alt text](mnist.png \"Title\")"
   ]
  },
  {
   "cell_type": "markdown",
   "metadata": {},
   "source": [
    "\n",
    "##### To complete this task, you will have to implement the following steps:\n",
    "<br> 1. Download and read the data - 10 points\n",
    "<br> 2. Show how you use augmentation functions. To get the points, visualize the original image vs augmented image using 4 augmentation techniques of your choice - 10 points\n",
    "<br> 3. Implement a Neural Network which classifies given images. You can use any deep learning framework - 10 points\n",
    "<br> 4. Implement a training procedure using your dataloader, augmentation functions and neural network - 10 points\n",
    "<br> 5. Plot loss graph - 10 points\n",
    "<br> 6. Print accuracy of your model on test set -  10 points\n",
    "<br> 7. Show us how your model works! Plot a few input images and corresponding predictions of your model - 10 points\n",
    "<br> 8. Upload your work to github - 5 points. Google/dropbox/yandex drive - 0 points\n",
    "\n",
    "Max = 75 points!\n",
    "\n",
    "##### Main notes:\n",
    "<br> *- implement your work in provided jupyter notebook \n",
    "<br> - you can use any framework \n",
    "<br> - we are not too strict about the requirements: if your work corresponds to the task wording, the chances are you will get the full points*\n",
    "\n",
    "\n",
    "Please, upload to a google/dropbox/yandex drive or github  and send the link to the following google form: https://docs.google.com/forms/d/e/1FAIpQLSeeYILriugs1Vdxa3r01nS1469VT-_t_ZCNF18zwQVl-XKkHQ/viewform?usp=sf_link \n",
    "\n",
    "If you have any questions, please mail to:\n",
    "olzhas.kabdolov@btsdigital.kz and rustem.burkhanov@btsdigital.kz \n",
    "\n",
    "**The deadline is 27th of May, 12 o'Clock in the noon**\n",
    "\n",
    "\n",
    "####  Good luck and have fun!\n"
   ]
  },
  {
   "cell_type": "markdown",
   "metadata": {},
   "source": [
    "##### Task 1. Dataloader"
   ]
  },
  {
   "cell_type": "code",
   "execution_count": 224,
   "metadata": {},
   "outputs": [],
   "source": [
    "import tensorflow as tf\n",
    "(x_train, y_train), (x_test, y_test) = tf.keras.datasets.mnist.load_data()"
   ]
  },
  {
   "cell_type": "markdown",
   "metadata": {},
   "source": [
    "##### Task 2. Augmentation"
   ]
  },
  {
   "cell_type": "code",
   "execution_count": 231,
   "metadata": {},
   "outputs": [
    {
     "data": {
      "image/png": "[encoded data removed]",
      "text/plain": [
       "<Figure size 432x288 with 5 Axes>"
      ]
     },
     "metadata": {
      "needs_background": "light"
     },
     "output_type": "display_data"
    }
   ],
   "source": [
    "import matplotlib.pyplot as plt\n",
    "import numpy as np\n",
    "%matplotlib inline\n",
    "image = x_train[0]\n",
    "plt.subplot(1, 5, 1)\n",
    "plt.xlabel('original')\n",
    "plt.imshow(image, cmap='Greys')\n",
    "\n",
    "image_flipped = np.fliplr(image)\n",
    "plt.subplot(1, 5, 2)\n",
    "plt.xlabel('flipped')\n",
    "plt.imshow(image_flipped, cmap='Greys')\n",
    "\n",
    "image_rotated = np.rot90(image)\n",
    "plt.subplot(1, 5, 3)\n",
    "plt.xlabel('rotated')\n",
    "plt.imshow(image_rotated, cmap='Greys')\n",
    "\n",
    "lx, ly = image.shape\n",
    "image_cropped = image[lx // 16: - lx // 16, ly // 16: - ly // 16]\n",
    "plt.subplot(1, 5, 4)\n",
    "plt.xlabel('cropped')\n",
    "plt.imshow(image_cropped, cmap='Greys')\n",
    "\n",
    "\n",
    "image_shifted = np.roll(image, 3)\n",
    "plt.subplot(1, 5, 5)\n",
    "plt.xlabel('shifted')\n",
    "plt.imshow(image_shifted, cmap='Greys')\n",
    "\n",
    "plt.show()\n"
   ]
  },
  {
   "cell_type": "markdown",
   "metadata": {},
   "source": [
    "##### Task 3. Neural Network"
   ]
  },
  {
   "cell_type": "code",
   "execution_count": 265,
   "metadata": {},
   "outputs": [
    {
     "name": "stdout",
     "output_type": "stream",
     "text": [
      "x_train shape: (60000, 28, 28, 1)\n",
      "Number of images in x_train 60000\n",
      "Number of images in x_test 10000\n"
     ]
    }
   ],
   "source": [
    "# Reshaping the array to 4-dims so that it can work with the Keras API\n",
    "x_train = x_train.reshape(x_train.shape[0], 28, 28, 1)\n",
    "x_test = x_test.reshape(x_test.shape[0], 28, 28, 1)\n",
    "input_shape = (28, 28, 1)\n",
    "# Making sure that the values are float so that we can get decimal points after division\n",
    "x_train = x_train.astype('float32')\n",
    "x_test = x_test.astype('float32')\n",
    "# Normalizing the RGB codes by dividing it to the max RGB value.\n",
    "x_train /= 255\n",
    "x_test /= 255\n",
    "print('x_train shape:', x_train.shape)\n",
    "print('Number of images in x_train', x_train.shape[0])\n",
    "print('Number of images in x_test', x_test.shape[0])"
   ]
  },
  {
   "cell_type": "code",
   "execution_count": 233,
   "metadata": {},
   "outputs": [
    {
     "name": "stdout",
     "output_type": "stream",
     "text": [
      "WARNING:tensorflow:From /anaconda3/lib/python3.7/site-packages/keras/backend/tensorflow_backend.py:3445: calling dropout (from tensorflow.python.ops.nn_ops) with keep_prob is deprecated and will be removed in a future version.\n",
      "Instructions for updating:\n",
      "Please use `rate` instead of `keep_prob`. Rate should be set to `rate = 1 - keep_prob`.\n"
     ]
    }
   ],
   "source": [
    "# Importing the required Keras modules containing model and layers\n",
    "from keras.models import Sequential\n",
    "from keras.layers import Dense, Conv2D, Dropout, Flatten, MaxPooling2D\n",
    "# Creating a Sequential Model and adding the layers\n",
    "model = Sequential()\n",
    "model.add(Conv2D(28, kernel_size=(3,3), input_shape=input_shape))\n",
    "model.add(MaxPooling2D(pool_size=(2, 2)))\n",
    "model.add(Flatten()) # Flattening the 2D arrays for fully connected layers\n",
    "model.add(Dense(128, activation=tf.nn.relu))\n",
    "model.add(Dropout(0.2))\n",
    "model.add(Dense(10,activation=tf.nn.softmax))"
   ]
  },
  {
   "cell_type": "markdown",
   "metadata": {},
   "source": [
    "##### Task 4. Train loop"
   ]
  },
  {
   "cell_type": "code",
   "execution_count": 243,
   "metadata": {
    "scrolled": true
   },
   "outputs": [
    {
     "name": "stdout",
     "output_type": "stream",
     "text": [
      "Epoch 1/5\n",
      "60000/60000 [==============================] - 11s 184us/step - loss: 0.0181 - acc: 0.9940\n",
      "Epoch 2/5\n",
      "60000/60000 [==============================] - 11s 188us/step - loss: 0.0162 - acc: 0.9945\n",
      "Epoch 3/5\n",
      "60000/60000 [==============================] - 11s 185us/step - loss: 0.0135 - acc: 0.9954\n",
      "Epoch 4/5\n",
      "60000/60000 [==============================] - 11s 187us/step - loss: 0.0147 - acc: 0.9953\n",
      "Epoch 5/5\n",
      "60000/60000 [==============================] - 11s 187us/step - loss: 0.0149 - acc: 0.9951\n"
     ]
    }
   ],
   "source": [
    "model.compile(optimizer='adam', \n",
    "              loss='sparse_categorical_crossentropy', \n",
    "              metrics=['accuracy'])\n",
    "history = model.fit(x=x_train,y=y_train, epochs=5)"
   ]
  },
  {
   "cell_type": "markdown",
   "metadata": {},
   "source": [
    "##### Task 5. Loss plot"
   ]
  },
  {
   "cell_type": "code",
   "execution_count": 257,
   "metadata": {},
   "outputs": [
    {
     "data": {
      "image/png": "[encoded data removed]",
      "text/plain": [
       "<Figure size 432x288 with 1 Axes>"
      ]
     },
     "metadata": {
      "needs_background": "light"
     },
     "output_type": "display_data"
    }
   ],
   "source": [
    "# print(history.history)\n",
    "plt.plot(history.history['loss'])\n",
    "# plt.plot(history.history['val_loss'])\n",
    "plt.title('model loss')\n",
    "plt.ylabel('loss')\n",
    "plt.xlabel('epoch')\n",
    "plt.legend(['train', 'test'], loc='upper left')\n",
    "plt.show()"
   ]
  },
  {
   "cell_type": "markdown",
   "metadata": {},
   "source": [
    "##### Task 6. Test set accuracy"
   ]
  },
  {
   "cell_type": "code",
   "execution_count": 250,
   "metadata": {},
   "outputs": [
    {
     "name": "stdout",
     "output_type": "stream",
     "text": [
      "10000/10000 [==============================] - 1s 65us/step\n"
     ]
    },
    {
     "data": {
      "text/plain": [
       "[0.06485777167017259, 0.9862]"
      ]
     },
     "execution_count": 250,
     "metadata": {},
     "output_type": "execute_result"
    }
   ],
   "source": [
    "model.evaluate(x_test, y_test)"
   ]
  },
  {
   "cell_type": "markdown",
   "metadata": {},
   "source": [
    "##### Task 7. Inference"
   ]
  },
  {
   "cell_type": "code",
   "execution_count": 251,
   "metadata": {},
   "outputs": [
    {
     "data": {
      "image/png": "[encoded data removed]",
      "text/plain": [
       "<Figure size 432x288 with 4 Axes>"
      ]
     },
     "metadata": {
      "needs_background": "light"
     },
     "output_type": "display_data"
    }
   ],
   "source": [
    "plt.subplot(1,4,1)\n",
    "image_index = 0\n",
    "plt.imshow(x_test[image_index].reshape(28, 28),cmap='Greys')\n",
    "pred = model.predict(x_test[image_index].reshape(1, 28, 28, 1))\n",
    "plt.xlabel(pred.argmax());\n",
    "\n",
    "plt.subplot(1,4,2)\n",
    "image_index = 1\n",
    "plt.imshow(x_test[image_index].reshape(28, 28),cmap='Greys')\n",
    "pred = model.predict(x_test[image_index].reshape(1, 28, 28, 1))\n",
    "plt.xlabel(pred.argmax());\n",
    "\n",
    "plt.subplot(1,4,3)\n",
    "image_index = 2\n",
    "plt.imshow(x_test[image_index].reshape(28, 28),cmap='Greys')\n",
    "pred = model.predict(x_test[image_index].reshape(1, 28, 28, 1))\n",
    "plt.xlabel(pred.argmax());\n",
    "\n",
    "plt.subplot(1,4,4)\n",
    "image_index = 3\n",
    "plt.imshow(x_test[image_index].reshape(28, 28),cmap='Greys')\n",
    "pred = model.predict(x_test[image_index].reshape(1, 28, 28, 1))\n",
    "plt.xlabel(pred.argmax());\n",
    "plt.show()"
   ]
  }
 ],
 "metadata": {
  "kernelspec": {
   "display_name": "Python 3",
   "language": "python",
   "name": "python3"
  },
  "language_info": {
   "codemirror_mode": {
    "name": "ipython",
    "version": 3
   },
   "file_extension": ".py",
   "mimetype": "text/x-python",
   "name": "python",
   "nbconvert_exporter": "python",
   "pygments_lexer": "ipython3",
   "version": "3.7.1"
  }
 },
 "nbformat": 4,
 "nbformat_minor": 2
}
